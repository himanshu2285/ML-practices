{
  "nbformat": 4,
  "nbformat_minor": 0,
  "metadata": {
    "colab": {
      "provenance": [],
      "toc_visible": true,
      "authorship_tag": "ABX9TyNlyEByqe3hzsRUWY+fpGb/",
      "include_colab_link": true
    },
    "kernelspec": {
      "name": "python3",
      "display_name": "Python 3"
    },
    "language_info": {
      "name": "python"
    }
  },
  "cells": [
    {
      "cell_type": "markdown",
      "metadata": {
        "id": "view-in-github",
        "colab_type": "text"
      },
      "source": [
        "<a href=\"https://colab.research.google.com/github/himanshu2285/ML-practices/blob/main/numpyPractices.ipynb\" target=\"_parent\"><img src=\"https://colab.research.google.com/assets/colab-badge.svg\" alt=\"Open In Colab\"/></a>"
      ]
    },
    {
      "cell_type": "markdown",
      "source": [
        "# Numpy"
      ],
      "metadata": {
        "id": "hYx_RFjoMWLQ"
      }
    },
    {
      "cell_type": "code",
      "execution_count": null,
      "metadata": {
        "id": "EdGnDe3PMHny"
      },
      "outputs": [],
      "source": [
        "import numpy as np"
      ]
    },
    {
      "cell_type": "code",
      "source": [
        "a = np.array([\n",
        "    [1,1,1],\n",
        "    [2,2,2],\n",
        "    [3,3,3]\n",
        "])"
      ],
      "metadata": {
        "id": "qRkuzrhhcMaW"
      },
      "execution_count": null,
      "outputs": []
    },
    {
      "cell_type": "code",
      "source": [
        "a"
      ],
      "metadata": {
        "colab": {
          "base_uri": "https://localhost:8080/"
        },
        "id": "OS9n-pS-cbXR",
        "outputId": "3c4d1687-86c6-4e4a-b378-c5db0033aa64"
      },
      "execution_count": null,
      "outputs": [
        {
          "output_type": "execute_result",
          "data": {
            "text/plain": [
              "array([[1, 1, 1],\n",
              "       [2, 2, 2],\n",
              "       [3, 3, 3]])"
            ]
          },
          "metadata": {},
          "execution_count": 3
        }
      ]
    },
    {
      "cell_type": "code",
      "source": [
        "a.ndim"
      ],
      "metadata": {
        "colab": {
          "base_uri": "https://localhost:8080/"
        },
        "id": "li-WmqBgcb7d",
        "outputId": "963912fb-8544-49e8-ce3b-29b200215f11"
      },
      "execution_count": null,
      "outputs": [
        {
          "output_type": "execute_result",
          "data": {
            "text/plain": [
              "2"
            ]
          },
          "metadata": {},
          "execution_count": 4
        }
      ]
    },
    {
      "cell_type": "code",
      "source": [
        "a.shape"
      ],
      "metadata": {
        "colab": {
          "base_uri": "https://localhost:8080/"
        },
        "id": "mrt6ogUjcdiC",
        "outputId": "991263c6-2065-426a-d5a2-deac3b93805f"
      },
      "execution_count": null,
      "outputs": [
        {
          "output_type": "execute_result",
          "data": {
            "text/plain": [
              "(3, 3)"
            ]
          },
          "metadata": {},
          "execution_count": 5
        }
      ]
    },
    {
      "cell_type": "code",
      "source": [
        "a.size"
      ],
      "metadata": {
        "colab": {
          "base_uri": "https://localhost:8080/"
        },
        "id": "obkaugG-cgJU",
        "outputId": "337beadb-0bb8-44a1-99b5-270cf1514190"
      },
      "execution_count": null,
      "outputs": [
        {
          "output_type": "execute_result",
          "data": {
            "text/plain": [
              "9"
            ]
          },
          "metadata": {},
          "execution_count": 6
        }
      ]
    },
    {
      "cell_type": "code",
      "source": [
        "b = a[1:3,]\n",
        "b"
      ],
      "metadata": {
        "colab": {
          "base_uri": "https://localhost:8080/"
        },
        "id": "wGCDB6f8ck95",
        "outputId": "12619b44-cc51-4c58-ef05-9e888af027f8"
      },
      "execution_count": null,
      "outputs": [
        {
          "output_type": "execute_result",
          "data": {
            "text/plain": [
              "array([[2, 2, 2],\n",
              "       [3, 3, 3]])"
            ]
          },
          "metadata": {},
          "execution_count": 7
        }
      ]
    },
    {
      "cell_type": "code",
      "source": [
        "np.hstack(b)"
      ],
      "metadata": {
        "colab": {
          "base_uri": "https://localhost:8080/"
        },
        "id": "fucRTyYjcs5U",
        "outputId": "2862c89f-952c-459c-acf6-23414553cacd"
      },
      "execution_count": null,
      "outputs": [
        {
          "output_type": "execute_result",
          "data": {
            "text/plain": [
              "array([2, 2, 2, 3, 3, 3])"
            ]
          },
          "metadata": {},
          "execution_count": 8
        }
      ]
    },
    {
      "cell_type": "code",
      "source": [
        "x = np.arange(1, 25).reshape(2, 12)\n",
        "x"
      ],
      "metadata": {
        "colab": {
          "base_uri": "https://localhost:8080/"
        },
        "id": "htpOdenMdf3e",
        "outputId": "b14896d0-adc8-47d6-a080-cc0f1690a490"
      },
      "execution_count": null,
      "outputs": [
        {
          "output_type": "execute_result",
          "data": {
            "text/plain": [
              "array([[ 1,  2,  3,  4,  5,  6,  7,  8,  9, 10, 11, 12],\n",
              "       [13, 14, 15, 16, 17, 18, 19, 20, 21, 22, 23, 24]])"
            ]
          },
          "metadata": {},
          "execution_count": 9
        }
      ]
    },
    {
      "cell_type": "code",
      "source": [
        "data = np.array([2,3])\n",
        "ones = np.ones(2,dtype=int)"
      ],
      "metadata": {
        "id": "XRnLgDBEdyDG"
      },
      "execution_count": null,
      "outputs": []
    },
    {
      "cell_type": "code",
      "source": [
        "data+ones"
      ],
      "metadata": {
        "colab": {
          "base_uri": "https://localhost:8080/"
        },
        "id": "0sxfPEKGea-F",
        "outputId": "736301fe-32e0-4bfa-89a3-680af991df00"
      },
      "execution_count": null,
      "outputs": [
        {
          "output_type": "execute_result",
          "data": {
            "text/plain": [
              "array([3, 4])"
            ]
          },
          "metadata": {},
          "execution_count": 11
        }
      ]
    },
    {
      "cell_type": "code",
      "source": [
        "x= np.array([\n",
        "    [1,2,3],[3,2,1]\n",
        "])\n",
        "x"
      ],
      "metadata": {
        "colab": {
          "base_uri": "https://localhost:8080/"
        },
        "id": "rGtsLMyWe24H",
        "outputId": "d240af6e-2d4a-4a92-ae56-161db1653f09"
      },
      "execution_count": null,
      "outputs": [
        {
          "output_type": "execute_result",
          "data": {
            "text/plain": [
              "array([[1, 2, 3],\n",
              "       [3, 2, 1]])"
            ]
          },
          "metadata": {},
          "execution_count": 12
        }
      ]
    },
    {
      "cell_type": "code",
      "source": [
        "x.ndim"
      ],
      "metadata": {
        "colab": {
          "base_uri": "https://localhost:8080/"
        },
        "id": "AAIZIpXsfmwJ",
        "outputId": "b88f8b8d-5824-4b19-8293-c12880ac1b05"
      },
      "execution_count": null,
      "outputs": [
        {
          "output_type": "execute_result",
          "data": {
            "text/plain": [
              "2"
            ]
          },
          "metadata": {},
          "execution_count": 13
        }
      ]
    },
    {
      "cell_type": "code",
      "source": [
        "x = np.array([\n",
        "    [[11,12,12,32],[54,33,45,76],[43,4565,67,334]],\n",
        "    [[3,4,53,3],[5,3,255,1],[1,2,3,4]]\n",
        "])\n",
        "x"
      ],
      "metadata": {
        "colab": {
          "base_uri": "https://localhost:8080/"
        },
        "id": "7BCCtwK5fpUe",
        "outputId": "f37a07ac-3c41-454a-d397-be221f212a23"
      },
      "execution_count": null,
      "outputs": [
        {
          "output_type": "execute_result",
          "data": {
            "text/plain": [
              "array([[[  11,   12,   12,   32],\n",
              "        [  54,   33,   45,   76],\n",
              "        [  43, 4565,   67,  334]],\n",
              "\n",
              "       [[   3,    4,   53,    3],\n",
              "        [   5,    3,  255,    1],\n",
              "        [   1,    2,    3,    4]]])"
            ]
          },
          "metadata": {},
          "execution_count": 14
        }
      ]
    },
    {
      "cell_type": "code",
      "source": [
        "x.ndim"
      ],
      "metadata": {
        "colab": {
          "base_uri": "https://localhost:8080/"
        },
        "id": "yPl2CmXrgDhV",
        "outputId": "f9090ce9-295c-43f2-8f8b-60742d7609e5"
      },
      "execution_count": null,
      "outputs": [
        {
          "output_type": "execute_result",
          "data": {
            "text/plain": [
              "3"
            ]
          },
          "metadata": {},
          "execution_count": 15
        }
      ]
    },
    {
      "cell_type": "code",
      "source": [
        "x.max(axis=0)"
      ],
      "metadata": {
        "colab": {
          "base_uri": "https://localhost:8080/"
        },
        "id": "PYVgx8_jgG7s",
        "outputId": "ad74a4e4-40d5-45a8-e3f7-0c2264ae6bbe"
      },
      "execution_count": null,
      "outputs": [
        {
          "output_type": "execute_result",
          "data": {
            "text/plain": [
              "array([[  11,   12,   53,   32],\n",
              "       [  54,   33,  255,   76],\n",
              "       [  43, 4565,   67,  334]])"
            ]
          },
          "metadata": {},
          "execution_count": 16
        }
      ]
    },
    {
      "cell_type": "code",
      "source": [
        "import random\n",
        "randomNum = np.random.random(3)\n",
        "randomNum"
      ],
      "metadata": {
        "colab": {
          "base_uri": "https://localhost:8080/"
        },
        "id": "NNUKIyyvhqZF",
        "outputId": "a5146f5b-8489-4fbb-eecc-9e06f9bfe918"
      },
      "execution_count": null,
      "outputs": [
        {
          "output_type": "execute_result",
          "data": {
            "text/plain": [
              "array([0.72491293, 0.85971201, 0.03563076])"
            ]
          },
          "metadata": {},
          "execution_count": 17
        }
      ]
    },
    {
      "cell_type": "code",
      "source": [
        "rng = np.random.default_rng()  # the simplest way to generate random numbers\n",
        "rng.random(3)"
      ],
      "metadata": {
        "colab": {
          "base_uri": "https://localhost:8080/"
        },
        "id": "YRKgG1zQij2v",
        "outputId": "7af6ee93-512a-48ef-e669-fb18a265ffd9"
      },
      "execution_count": null,
      "outputs": [
        {
          "output_type": "execute_result",
          "data": {
            "text/plain": [
              "array([0.63867884, 0.96141868, 0.99671938])"
            ]
          },
          "metadata": {},
          "execution_count": 18
        }
      ]
    },
    {
      "cell_type": "markdown",
      "source": [
        "### Aggregate Funcation"
      ],
      "metadata": {
        "id": "X9pFdmN0KqV1"
      }
    },
    {
      "cell_type": "code",
      "source": [
        "array1 = np.array([\n",
        "    [1,2,3,4,5],\n",
        "    [6,7,8,9,10],\n",
        "    [11,12,13,14,15]\n",
        "])"
      ],
      "metadata": {
        "id": "OGjLzcOOjFTk"
      },
      "execution_count": null,
      "outputs": []
    },
    {
      "cell_type": "code",
      "source": [
        "print(array1.min())\n",
        "print(array1.max())\n",
        "print(array1.sum())\n",
        "print(array1.mean())\n",
        "print(array1.std())\n",
        "print(array1.var())\n",
        "print(array1.cumsum())\n",
        "print(array1.argmin())\n",
        "print(array1.argmax())"
      ],
      "metadata": {
        "colab": {
          "base_uri": "https://localhost:8080/"
        },
        "id": "lV7s3U_XLRQT",
        "outputId": "032ad6a6-032a-4b54-f51b-f3d8345bc6fb"
      },
      "execution_count": null,
      "outputs": [
        {
          "output_type": "stream",
          "name": "stdout",
          "text": [
            "1\n",
            "15\n",
            "120\n",
            "8.0\n",
            "4.320493798938574\n",
            "18.666666666666668\n",
            "[  1   3   6  10  15  21  28  36  45  55  66  78  91 105 120]\n",
            "0\n",
            "14\n"
          ]
        }
      ]
    },
    {
      "cell_type": "markdown",
      "source": [
        "Axis function: axis=1 means row, axis=0 means column"
      ],
      "metadata": {
        "id": "zTPOv-fOMW5S"
      }
    },
    {
      "cell_type": "code",
      "source": [
        "print(np.sum(array1, axis=0))\n",
        "print(np.sum(array1, axis=1))"
      ],
      "metadata": {
        "colab": {
          "base_uri": "https://localhost:8080/"
        },
        "id": "x5xzOJAfLUWp",
        "outputId": "be10a730-9267-49d9-d7f6-88a06956204c"
      },
      "execution_count": null,
      "outputs": [
        {
          "output_type": "stream",
          "name": "stdout",
          "text": [
            "[18 21 24 27 30]\n",
            "[15 40 65]\n"
          ]
        }
      ]
    },
    {
      "cell_type": "markdown",
      "source": [
        "### Filtering elements in an array"
      ],
      "metadata": {
        "id": "wFkHx0lKOIV0"
      }
    },
    {
      "cell_type": "code",
      "source": [
        "ages = np.array([\n",
        "    [23,54,5,33,21],\n",
        "    [65,45,20,21,26]\n",
        "])"
      ],
      "metadata": {
        "id": "jfZ_moy9MxZT"
      },
      "execution_count": null,
      "outputs": []
    },
    {
      "cell_type": "code",
      "source": [
        "teens = ages[ages<20]\n",
        "teens"
      ],
      "metadata": {
        "colab": {
          "base_uri": "https://localhost:8080/"
        },
        "id": "CwGJ4O9ON34U",
        "outputId": "4b512fa8-7874-42ad-ff2b-48ffb10e1abe"
      },
      "execution_count": null,
      "outputs": [
        {
          "output_type": "execute_result",
          "data": {
            "text/plain": [
              "array([5])"
            ]
          },
          "metadata": {},
          "execution_count": 34
        }
      ]
    },
    {
      "cell_type": "code",
      "source": [
        "adults = ages[(ages>=20) & (ages<65)]\n",
        "adults"
      ],
      "metadata": {
        "colab": {
          "base_uri": "https://localhost:8080/"
        },
        "id": "FBnWF11ON-vY",
        "outputId": "e7aeb6f2-cc28-4c6a-ecd7-4f945aca6794"
      },
      "execution_count": null,
      "outputs": [
        {
          "output_type": "execute_result",
          "data": {
            "text/plain": [
              "array([23, 54, 33, 21, 45, 20, 21, 26])"
            ]
          },
          "metadata": {},
          "execution_count": 44
        }
      ]
    },
    {
      "cell_type": "markdown",
      "source": [
        "where clause is helpful for preserving our original shape"
      ],
      "metadata": {
        "id": "2n9S65wvQMXA"
      }
    },
    {
      "cell_type": "code",
      "source": [
        "newArr = np.where(ages>20, ages, 0)\n",
        "print(newArr)"
      ],
      "metadata": {
        "colab": {
          "base_uri": "https://localhost:8080/"
        },
        "id": "I100xpjyOELi",
        "outputId": "2aadcbd6-db8b-4ea6-f73e-2635af29b650"
      },
      "execution_count": null,
      "outputs": [
        {
          "output_type": "stream",
          "name": "stdout",
          "text": [
            "[[23 54  0 33 21]\n",
            " [65 45  0 21 26]]\n"
          ]
        }
      ]
    },
    {
      "cell_type": "markdown",
      "source": [
        "## Random Numbers"
      ],
      "metadata": {
        "id": "hnGOOqgnQc8U"
      }
    },
    {
      "cell_type": "code",
      "source": [
        "rng = np.random.default_rng()\n",
        "# print(rng.integers(low=1,high=10,size=(3)))\n",
        "print(rng.integers(low=1,high=11,size=(3,3)))"
      ],
      "metadata": {
        "colab": {
          "base_uri": "https://localhost:8080/"
        },
        "id": "BdYPY5ovP1MC",
        "outputId": "05f79a2c-725b-47dd-c268-4d642ae7738c"
      },
      "execution_count": null,
      "outputs": [
        {
          "output_type": "stream",
          "name": "stdout",
          "text": [
            "[[7 8 8]\n",
            " [1 7 3]\n",
            " [8 8 6]]\n"
          ]
        }
      ]
    },
    {
      "cell_type": "markdown",
      "source": [
        "Uniform gives all values equal chance"
      ],
      "metadata": {
        "id": "NK6dKQy5SAzX"
      }
    },
    {
      "cell_type": "code",
      "source": [
        "print(np.random.uniform(-1,1,size=(2,3,3)))"
      ],
      "metadata": {
        "colab": {
          "base_uri": "https://localhost:8080/"
        },
        "id": "VSJ4L403Q3jC",
        "outputId": "b42c09e8-06b8-4d5e-c5c5-b9418ea9cde8"
      },
      "execution_count": null,
      "outputs": [
        {
          "output_type": "stream",
          "name": "stdout",
          "text": [
            "[[[ 0.73096827  0.32947845  0.18096484]\n",
            "  [ 0.46459037 -0.03018289 -0.80223877]\n",
            "  [-0.05677044 -0.46699893 -0.16740865]]\n",
            "\n",
            " [[ 0.07573953  0.88332801 -0.40794144]\n",
            "  [ 0.7264531  -0.65877005 -0.39512646]\n",
            "  [-0.8214704   0.88522239  0.06716791]]]\n"
          ]
        }
      ]
    },
    {
      "cell_type": "markdown",
      "source": [
        "Shuffling values"
      ],
      "metadata": {
        "id": "eJTUfY2oSqpm"
      }
    },
    {
      "cell_type": "code",
      "source": [
        "array = np.array([1,2,3,4,5,6])\n",
        "fruits = np.array(['apple','banana','cherry','orange','grapes'])\n",
        "rng = np.random.default_rng()\n",
        "rng.shuffle(fruits)\n",
        "fruits"
      ],
      "metadata": {
        "colab": {
          "base_uri": "https://localhost:8080/"
        },
        "id": "c0OCR6ADSNJB",
        "outputId": "cb87789c-a132-4630-f822-a5443832f7f8"
      },
      "execution_count": null,
      "outputs": [
        {
          "output_type": "execute_result",
          "data": {
            "text/plain": [
              "array(['orange', 'grapes', 'apple', 'banana', 'cherry'], dtype='<U6')"
            ]
          },
          "metadata": {},
          "execution_count": 77
        }
      ]
    },
    {
      "cell_type": "markdown",
      "source": [
        "choice() function is used for selecting the random values"
      ],
      "metadata": {
        "id": "t8Rpu_RnUl56"
      }
    },
    {
      "cell_type": "code",
      "source": [
        "fruit = rng.choice(fruits,size=(2,3))\n",
        "fruit"
      ],
      "metadata": {
        "colab": {
          "base_uri": "https://localhost:8080/"
        },
        "id": "As43d90-S5MD",
        "outputId": "58feffe2-e3b0-4bfc-f86f-537bd0640533"
      },
      "execution_count": null,
      "outputs": [
        {
          "output_type": "execute_result",
          "data": {
            "text/plain": [
              "array([['grapes', 'orange', 'apple'],\n",
              "       ['grapes', 'cherry', 'apple']], dtype='<U6')"
            ]
          },
          "metadata": {},
          "execution_count": 91
        }
      ]
    },
    {
      "cell_type": "code",
      "source": [],
      "metadata": {
        "id": "XDGRcNfwU1oV"
      },
      "execution_count": null,
      "outputs": []
    }
  ]
}