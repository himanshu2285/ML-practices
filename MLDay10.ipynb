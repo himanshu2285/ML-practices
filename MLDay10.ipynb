{
  "nbformat": 4,
  "nbformat_minor": 0,
  "metadata": {
    "colab": {
      "provenance": [],
      "toc_visible": true,
      "authorship_tag": "ABX9TyOU2G9/ZMYrneQ2+R25ZWkW",
      "include_colab_link": true
    },
    "kernelspec": {
      "name": "python3",
      "display_name": "Python 3"
    },
    "language_info": {
      "name": "python"
    }
  },
  "cells": [
    {
      "cell_type": "markdown",
      "metadata": {
        "id": "view-in-github",
        "colab_type": "text"
      },
      "source": [
        "<a href=\"https://colab.research.google.com/github/himanshu2285/ML-practices/blob/main/MLDay10.ipynb\" target=\"_parent\"><img src=\"https://colab.research.google.com/assets/colab-badge.svg\" alt=\"Open In Colab\"/></a>"
      ]
    },
    {
      "cell_type": "markdown",
      "source": [
        "\n",
        "\n",
        "\n",
        "# Tensors"
      ],
      "metadata": {
        "id": "i4-PJ7p90wmQ"
      }
    },
    {
      "cell_type": "code",
      "execution_count": 1,
      "metadata": {
        "id": "_Sa_Va-pxZi1"
      },
      "outputs": [],
      "source": [
        "import numpy as np"
      ]
    },
    {
      "cell_type": "markdown",
      "source": [
        "0D Tensor (Scalar)"
      ],
      "metadata": {
        "id": "LH69DMJ20sLv"
      }
    },
    {
      "cell_type": "code",
      "source": [
        "a = np.array(10)\n",
        "print(a)"
      ],
      "metadata": {
        "colab": {
          "base_uri": "https://localhost:8080/"
        },
        "id": "7lnO8h4ZyIFt",
        "outputId": "0f0be045-3de5-4add-92e1-95ad176bc5cc"
      },
      "execution_count": 2,
      "outputs": [
        {
          "output_type": "stream",
          "name": "stdout",
          "text": [
            "10\n"
          ]
        }
      ]
    },
    {
      "cell_type": "code",
      "source": [
        "a.ndim"
      ],
      "metadata": {
        "colab": {
          "base_uri": "https://localhost:8080/"
        },
        "id": "9GF1Q3p5yPfV",
        "outputId": "a348dde5-5278-4602-b3ea-56188cba9b97"
      },
      "execution_count": 3,
      "outputs": [
        {
          "output_type": "execute_result",
          "data": {
            "text/plain": [
              "0"
            ]
          },
          "metadata": {},
          "execution_count": 3
        }
      ]
    },
    {
      "cell_type": "markdown",
      "source": [
        "1D Tensor (Vector)"
      ],
      "metadata": {
        "id": "Anngbn3R07sM"
      }
    },
    {
      "cell_type": "code",
      "source": [
        "b = np.array([1,2,3,4,5,6])"
      ],
      "metadata": {
        "id": "piaSEEPzyR-N"
      },
      "execution_count": 4,
      "outputs": []
    },
    {
      "cell_type": "code",
      "source": [
        "b"
      ],
      "metadata": {
        "colab": {
          "base_uri": "https://localhost:8080/"
        },
        "id": "Kll4Iyh21HcG",
        "outputId": "7c69e0d7-6136-41fd-ef86-3ece8505329a"
      },
      "execution_count": 5,
      "outputs": [
        {
          "output_type": "execute_result",
          "data": {
            "text/plain": [
              "array([1, 2, 3, 4, 5, 6])"
            ]
          },
          "metadata": {},
          "execution_count": 5
        }
      ]
    },
    {
      "cell_type": "code",
      "source": [
        "b.ndim"
      ],
      "metadata": {
        "colab": {
          "base_uri": "https://localhost:8080/"
        },
        "id": "aLKxv59G1IPQ",
        "outputId": "47852210-7373-426b-ddb7-6ff8ef891761"
      },
      "execution_count": 6,
      "outputs": [
        {
          "output_type": "execute_result",
          "data": {
            "text/plain": [
              "1"
            ]
          },
          "metadata": {},
          "execution_count": 6
        }
      ]
    },
    {
      "cell_type": "markdown",
      "source": [
        "2D Tensor (Matrices)"
      ],
      "metadata": {
        "id": "2-92Hifo1L8Y"
      }
    },
    {
      "cell_type": "code",
      "source": [
        "c = np.array([[1,2,3],[4,5,6],[7,8,9]])"
      ],
      "metadata": {
        "id": "wQD2TLl71Kk3"
      },
      "execution_count": 14,
      "outputs": []
    },
    {
      "cell_type": "code",
      "source": [
        "c"
      ],
      "metadata": {
        "colab": {
          "base_uri": "https://localhost:8080/"
        },
        "id": "j9yVXX3C1xLB",
        "outputId": "e972d695-21f1-4a8f-e7dc-c737bc59b23a"
      },
      "execution_count": 15,
      "outputs": [
        {
          "output_type": "execute_result",
          "data": {
            "text/plain": [
              "array([[1, 2, 3],\n",
              "       [4, 5, 6],\n",
              "       [7, 8, 9]])"
            ]
          },
          "metadata": {},
          "execution_count": 15
        }
      ]
    },
    {
      "cell_type": "code",
      "source": [
        "c.ndim"
      ],
      "metadata": {
        "colab": {
          "base_uri": "https://localhost:8080/"
        },
        "id": "k_zACdu31xuc",
        "outputId": "3481afbf-3fcc-437e-a314-1f0a09744e66"
      },
      "execution_count": 16,
      "outputs": [
        {
          "output_type": "execute_result",
          "data": {
            "text/plain": [
              "2"
            ]
          },
          "metadata": {},
          "execution_count": 16
        }
      ]
    },
    {
      "cell_type": "code",
      "source": [
        ""
      ],
      "metadata": {
        "id": "aOxyiiX910kF"
      },
      "execution_count": null,
      "outputs": []
    }
  ]
}